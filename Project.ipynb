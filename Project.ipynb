{
 "cells": [
  {
   "cell_type": "code",
   "execution_count": 1,
   "metadata": {},
   "outputs": [],
   "source": [
    "import pandas as pd\n",
    "import matplotlib.pyplot as plt"
   ]
  },
  {
   "cell_type": "code",
   "execution_count": 2,
   "metadata": {},
   "outputs": [],
   "source": [
    "dataset = pd.read_csv('/root/Desktop/fraud/creditcard.csv')"
   ]
  },
  {
   "cell_type": "code",
   "execution_count": 3,
   "metadata": {},
   "outputs": [
    {
     "data": {
      "text/html": [
       "<div>\n",
       "<style scoped>\n",
       "    .dataframe tbody tr th:only-of-type {\n",
       "        vertical-align: middle;\n",
       "    }\n",
       "\n",
       "    .dataframe tbody tr th {\n",
       "        vertical-align: top;\n",
       "    }\n",
       "\n",
       "    .dataframe thead th {\n",
       "        text-align: right;\n",
       "    }\n",
       "</style>\n",
       "<table border=\"1\" class=\"dataframe\">\n",
       "  <thead>\n",
       "    <tr style=\"text-align: right;\">\n",
       "      <th></th>\n",
       "      <th>Time</th>\n",
       "      <th>V1</th>\n",
       "      <th>V2</th>\n",
       "      <th>V3</th>\n",
       "      <th>V4</th>\n",
       "      <th>V5</th>\n",
       "      <th>V6</th>\n",
       "      <th>V7</th>\n",
       "      <th>V8</th>\n",
       "      <th>V9</th>\n",
       "      <th>...</th>\n",
       "      <th>V21</th>\n",
       "      <th>V22</th>\n",
       "      <th>V23</th>\n",
       "      <th>V24</th>\n",
       "      <th>V25</th>\n",
       "      <th>V26</th>\n",
       "      <th>V27</th>\n",
       "      <th>V28</th>\n",
       "      <th>Amount</th>\n",
       "      <th>Class</th>\n",
       "    </tr>\n",
       "  </thead>\n",
       "  <tbody>\n",
       "    <tr>\n",
       "      <th>0</th>\n",
       "      <td>0.0</td>\n",
       "      <td>-1.359807</td>\n",
       "      <td>-0.072781</td>\n",
       "      <td>2.536347</td>\n",
       "      <td>1.378155</td>\n",
       "      <td>-0.338321</td>\n",
       "      <td>0.462388</td>\n",
       "      <td>0.239599</td>\n",
       "      <td>0.098698</td>\n",
       "      <td>0.363787</td>\n",
       "      <td>...</td>\n",
       "      <td>-0.018307</td>\n",
       "      <td>0.277838</td>\n",
       "      <td>-0.110474</td>\n",
       "      <td>0.066928</td>\n",
       "      <td>0.128539</td>\n",
       "      <td>-0.189115</td>\n",
       "      <td>0.133558</td>\n",
       "      <td>-0.021053</td>\n",
       "      <td>149.62</td>\n",
       "      <td>0</td>\n",
       "    </tr>\n",
       "    <tr>\n",
       "      <th>1</th>\n",
       "      <td>0.0</td>\n",
       "      <td>1.191857</td>\n",
       "      <td>0.266151</td>\n",
       "      <td>0.166480</td>\n",
       "      <td>0.448154</td>\n",
       "      <td>0.060018</td>\n",
       "      <td>-0.082361</td>\n",
       "      <td>-0.078803</td>\n",
       "      <td>0.085102</td>\n",
       "      <td>-0.255425</td>\n",
       "      <td>...</td>\n",
       "      <td>-0.225775</td>\n",
       "      <td>-0.638672</td>\n",
       "      <td>0.101288</td>\n",
       "      <td>-0.339846</td>\n",
       "      <td>0.167170</td>\n",
       "      <td>0.125895</td>\n",
       "      <td>-0.008983</td>\n",
       "      <td>0.014724</td>\n",
       "      <td>2.69</td>\n",
       "      <td>0</td>\n",
       "    </tr>\n",
       "    <tr>\n",
       "      <th>2</th>\n",
       "      <td>1.0</td>\n",
       "      <td>-1.358354</td>\n",
       "      <td>-1.340163</td>\n",
       "      <td>1.773209</td>\n",
       "      <td>0.379780</td>\n",
       "      <td>-0.503198</td>\n",
       "      <td>1.800499</td>\n",
       "      <td>0.791461</td>\n",
       "      <td>0.247676</td>\n",
       "      <td>-1.514654</td>\n",
       "      <td>...</td>\n",
       "      <td>0.247998</td>\n",
       "      <td>0.771679</td>\n",
       "      <td>0.909412</td>\n",
       "      <td>-0.689281</td>\n",
       "      <td>-0.327642</td>\n",
       "      <td>-0.139097</td>\n",
       "      <td>-0.055353</td>\n",
       "      <td>-0.059752</td>\n",
       "      <td>378.66</td>\n",
       "      <td>0</td>\n",
       "    </tr>\n",
       "    <tr>\n",
       "      <th>3</th>\n",
       "      <td>1.0</td>\n",
       "      <td>-0.966272</td>\n",
       "      <td>-0.185226</td>\n",
       "      <td>1.792993</td>\n",
       "      <td>-0.863291</td>\n",
       "      <td>-0.010309</td>\n",
       "      <td>1.247203</td>\n",
       "      <td>0.237609</td>\n",
       "      <td>0.377436</td>\n",
       "      <td>-1.387024</td>\n",
       "      <td>...</td>\n",
       "      <td>-0.108300</td>\n",
       "      <td>0.005274</td>\n",
       "      <td>-0.190321</td>\n",
       "      <td>-1.175575</td>\n",
       "      <td>0.647376</td>\n",
       "      <td>-0.221929</td>\n",
       "      <td>0.062723</td>\n",
       "      <td>0.061458</td>\n",
       "      <td>123.50</td>\n",
       "      <td>0</td>\n",
       "    </tr>\n",
       "    <tr>\n",
       "      <th>4</th>\n",
       "      <td>2.0</td>\n",
       "      <td>-1.158233</td>\n",
       "      <td>0.877737</td>\n",
       "      <td>1.548718</td>\n",
       "      <td>0.403034</td>\n",
       "      <td>-0.407193</td>\n",
       "      <td>0.095921</td>\n",
       "      <td>0.592941</td>\n",
       "      <td>-0.270533</td>\n",
       "      <td>0.817739</td>\n",
       "      <td>...</td>\n",
       "      <td>-0.009431</td>\n",
       "      <td>0.798278</td>\n",
       "      <td>-0.137458</td>\n",
       "      <td>0.141267</td>\n",
       "      <td>-0.206010</td>\n",
       "      <td>0.502292</td>\n",
       "      <td>0.219422</td>\n",
       "      <td>0.215153</td>\n",
       "      <td>69.99</td>\n",
       "      <td>0</td>\n",
       "    </tr>\n",
       "    <tr>\n",
       "      <th>...</th>\n",
       "      <td>...</td>\n",
       "      <td>...</td>\n",
       "      <td>...</td>\n",
       "      <td>...</td>\n",
       "      <td>...</td>\n",
       "      <td>...</td>\n",
       "      <td>...</td>\n",
       "      <td>...</td>\n",
       "      <td>...</td>\n",
       "      <td>...</td>\n",
       "      <td>...</td>\n",
       "      <td>...</td>\n",
       "      <td>...</td>\n",
       "      <td>...</td>\n",
       "      <td>...</td>\n",
       "      <td>...</td>\n",
       "      <td>...</td>\n",
       "      <td>...</td>\n",
       "      <td>...</td>\n",
       "      <td>...</td>\n",
       "      <td>...</td>\n",
       "    </tr>\n",
       "    <tr>\n",
       "      <th>284802</th>\n",
       "      <td>172786.0</td>\n",
       "      <td>-11.881118</td>\n",
       "      <td>10.071785</td>\n",
       "      <td>-9.834783</td>\n",
       "      <td>-2.066656</td>\n",
       "      <td>-5.364473</td>\n",
       "      <td>-2.606837</td>\n",
       "      <td>-4.918215</td>\n",
       "      <td>7.305334</td>\n",
       "      <td>1.914428</td>\n",
       "      <td>...</td>\n",
       "      <td>0.213454</td>\n",
       "      <td>0.111864</td>\n",
       "      <td>1.014480</td>\n",
       "      <td>-0.509348</td>\n",
       "      <td>1.436807</td>\n",
       "      <td>0.250034</td>\n",
       "      <td>0.943651</td>\n",
       "      <td>0.823731</td>\n",
       "      <td>0.77</td>\n",
       "      <td>0</td>\n",
       "    </tr>\n",
       "    <tr>\n",
       "      <th>284803</th>\n",
       "      <td>172787.0</td>\n",
       "      <td>-0.732789</td>\n",
       "      <td>-0.055080</td>\n",
       "      <td>2.035030</td>\n",
       "      <td>-0.738589</td>\n",
       "      <td>0.868229</td>\n",
       "      <td>1.058415</td>\n",
       "      <td>0.024330</td>\n",
       "      <td>0.294869</td>\n",
       "      <td>0.584800</td>\n",
       "      <td>...</td>\n",
       "      <td>0.214205</td>\n",
       "      <td>0.924384</td>\n",
       "      <td>0.012463</td>\n",
       "      <td>-1.016226</td>\n",
       "      <td>-0.606624</td>\n",
       "      <td>-0.395255</td>\n",
       "      <td>0.068472</td>\n",
       "      <td>-0.053527</td>\n",
       "      <td>24.79</td>\n",
       "      <td>0</td>\n",
       "    </tr>\n",
       "    <tr>\n",
       "      <th>284804</th>\n",
       "      <td>172788.0</td>\n",
       "      <td>1.919565</td>\n",
       "      <td>-0.301254</td>\n",
       "      <td>-3.249640</td>\n",
       "      <td>-0.557828</td>\n",
       "      <td>2.630515</td>\n",
       "      <td>3.031260</td>\n",
       "      <td>-0.296827</td>\n",
       "      <td>0.708417</td>\n",
       "      <td>0.432454</td>\n",
       "      <td>...</td>\n",
       "      <td>0.232045</td>\n",
       "      <td>0.578229</td>\n",
       "      <td>-0.037501</td>\n",
       "      <td>0.640134</td>\n",
       "      <td>0.265745</td>\n",
       "      <td>-0.087371</td>\n",
       "      <td>0.004455</td>\n",
       "      <td>-0.026561</td>\n",
       "      <td>67.88</td>\n",
       "      <td>0</td>\n",
       "    </tr>\n",
       "    <tr>\n",
       "      <th>284805</th>\n",
       "      <td>172788.0</td>\n",
       "      <td>-0.240440</td>\n",
       "      <td>0.530483</td>\n",
       "      <td>0.702510</td>\n",
       "      <td>0.689799</td>\n",
       "      <td>-0.377961</td>\n",
       "      <td>0.623708</td>\n",
       "      <td>-0.686180</td>\n",
       "      <td>0.679145</td>\n",
       "      <td>0.392087</td>\n",
       "      <td>...</td>\n",
       "      <td>0.265245</td>\n",
       "      <td>0.800049</td>\n",
       "      <td>-0.163298</td>\n",
       "      <td>0.123205</td>\n",
       "      <td>-0.569159</td>\n",
       "      <td>0.546668</td>\n",
       "      <td>0.108821</td>\n",
       "      <td>0.104533</td>\n",
       "      <td>10.00</td>\n",
       "      <td>0</td>\n",
       "    </tr>\n",
       "    <tr>\n",
       "      <th>284806</th>\n",
       "      <td>172792.0</td>\n",
       "      <td>-0.533413</td>\n",
       "      <td>-0.189733</td>\n",
       "      <td>0.703337</td>\n",
       "      <td>-0.506271</td>\n",
       "      <td>-0.012546</td>\n",
       "      <td>-0.649617</td>\n",
       "      <td>1.577006</td>\n",
       "      <td>-0.414650</td>\n",
       "      <td>0.486180</td>\n",
       "      <td>...</td>\n",
       "      <td>0.261057</td>\n",
       "      <td>0.643078</td>\n",
       "      <td>0.376777</td>\n",
       "      <td>0.008797</td>\n",
       "      <td>-0.473649</td>\n",
       "      <td>-0.818267</td>\n",
       "      <td>-0.002415</td>\n",
       "      <td>0.013649</td>\n",
       "      <td>217.00</td>\n",
       "      <td>0</td>\n",
       "    </tr>\n",
       "  </tbody>\n",
       "</table>\n",
       "<p>284807 rows × 31 columns</p>\n",
       "</div>"
      ],
      "text/plain": [
       "            Time         V1         V2        V3        V4        V5  \\\n",
       "0            0.0  -1.359807  -0.072781  2.536347  1.378155 -0.338321   \n",
       "1            0.0   1.191857   0.266151  0.166480  0.448154  0.060018   \n",
       "2            1.0  -1.358354  -1.340163  1.773209  0.379780 -0.503198   \n",
       "3            1.0  -0.966272  -0.185226  1.792993 -0.863291 -0.010309   \n",
       "4            2.0  -1.158233   0.877737  1.548718  0.403034 -0.407193   \n",
       "...          ...        ...        ...       ...       ...       ...   \n",
       "284802  172786.0 -11.881118  10.071785 -9.834783 -2.066656 -5.364473   \n",
       "284803  172787.0  -0.732789  -0.055080  2.035030 -0.738589  0.868229   \n",
       "284804  172788.0   1.919565  -0.301254 -3.249640 -0.557828  2.630515   \n",
       "284805  172788.0  -0.240440   0.530483  0.702510  0.689799 -0.377961   \n",
       "284806  172792.0  -0.533413  -0.189733  0.703337 -0.506271 -0.012546   \n",
       "\n",
       "              V6        V7        V8        V9  ...       V21       V22  \\\n",
       "0       0.462388  0.239599  0.098698  0.363787  ... -0.018307  0.277838   \n",
       "1      -0.082361 -0.078803  0.085102 -0.255425  ... -0.225775 -0.638672   \n",
       "2       1.800499  0.791461  0.247676 -1.514654  ...  0.247998  0.771679   \n",
       "3       1.247203  0.237609  0.377436 -1.387024  ... -0.108300  0.005274   \n",
       "4       0.095921  0.592941 -0.270533  0.817739  ... -0.009431  0.798278   \n",
       "...          ...       ...       ...       ...  ...       ...       ...   \n",
       "284802 -2.606837 -4.918215  7.305334  1.914428  ...  0.213454  0.111864   \n",
       "284803  1.058415  0.024330  0.294869  0.584800  ...  0.214205  0.924384   \n",
       "284804  3.031260 -0.296827  0.708417  0.432454  ...  0.232045  0.578229   \n",
       "284805  0.623708 -0.686180  0.679145  0.392087  ...  0.265245  0.800049   \n",
       "284806 -0.649617  1.577006 -0.414650  0.486180  ...  0.261057  0.643078   \n",
       "\n",
       "             V23       V24       V25       V26       V27       V28  Amount  \\\n",
       "0      -0.110474  0.066928  0.128539 -0.189115  0.133558 -0.021053  149.62   \n",
       "1       0.101288 -0.339846  0.167170  0.125895 -0.008983  0.014724    2.69   \n",
       "2       0.909412 -0.689281 -0.327642 -0.139097 -0.055353 -0.059752  378.66   \n",
       "3      -0.190321 -1.175575  0.647376 -0.221929  0.062723  0.061458  123.50   \n",
       "4      -0.137458  0.141267 -0.206010  0.502292  0.219422  0.215153   69.99   \n",
       "...          ...       ...       ...       ...       ...       ...     ...   \n",
       "284802  1.014480 -0.509348  1.436807  0.250034  0.943651  0.823731    0.77   \n",
       "284803  0.012463 -1.016226 -0.606624 -0.395255  0.068472 -0.053527   24.79   \n",
       "284804 -0.037501  0.640134  0.265745 -0.087371  0.004455 -0.026561   67.88   \n",
       "284805 -0.163298  0.123205 -0.569159  0.546668  0.108821  0.104533   10.00   \n",
       "284806  0.376777  0.008797 -0.473649 -0.818267 -0.002415  0.013649  217.00   \n",
       "\n",
       "        Class  \n",
       "0           0  \n",
       "1           0  \n",
       "2           0  \n",
       "3           0  \n",
       "4           0  \n",
       "...       ...  \n",
       "284802      0  \n",
       "284803      0  \n",
       "284804      0  \n",
       "284805      0  \n",
       "284806      0  \n",
       "\n",
       "[284807 rows x 31 columns]"
      ]
     },
     "execution_count": 3,
     "metadata": {},
     "output_type": "execute_result"
    }
   ],
   "source": [
    "dataset"
   ]
  },
  {
   "cell_type": "code",
   "execution_count": 4,
   "metadata": {},
   "outputs": [
    {
     "data": {
      "text/plain": [
       "8829017"
      ]
     },
     "execution_count": 4,
     "metadata": {},
     "output_type": "execute_result"
    }
   ],
   "source": [
    "dataset.size"
   ]
  },
  {
   "cell_type": "code",
   "execution_count": 5,
   "metadata": {},
   "outputs": [],
   "source": [
    "fraud_cases = []\n",
    "legitimate_cases = []\n",
    "for i in dataset['Class']:\n",
    "    if(i == 0):\n",
    "        legitimate_cases.append(i)\n",
    "    else:\n",
    "        fraud_cases.append(i)"
   ]
  },
  {
   "cell_type": "code",
   "execution_count": 6,
   "metadata": {},
   "outputs": [],
   "source": [
    "#comparision between number of legitimate cases and number of fraud cases"
   ]
  },
  {
   "cell_type": "code",
   "execution_count": 7,
   "metadata": {},
   "outputs": [
    {
     "data": {
      "text/plain": [
       "<matplotlib.legend.Legend at 0x7f4fa061c810>"
      ]
     },
     "execution_count": 7,
     "metadata": {},
     "output_type": "execute_result"
    },
    {
     "data": {
      "image/png": "[encoded data removed]",
      "text/plain": [
       "<Figure size 432x288 with 1 Axes>"
      ]
     },
     "metadata": {
      "needs_background": "light"
     },
     "output_type": "display_data"
    }
   ],
   "source": [
    "plt.bar([0],[len(legitimate_cases)],color = 'blue',label = 'legitimate cases')\n",
    "plt.bar([1],[len(fraud_cases)],color = 'red' ,label = 'fraud cases')\n",
    "plt.legend()"
   ]
  },
  {
   "cell_type": "code",
   "execution_count": 8,
   "metadata": {},
   "outputs": [
    {
     "data": {
      "text/plain": [
       "0.1727"
      ]
     },
     "execution_count": 8,
     "metadata": {},
     "output_type": "execute_result"
    }
   ],
   "source": [
    "round(len(fraud_cases)/(len(fraud_cases) + len(legitimate_cases)) * 100,4)"
   ]
  },
  {
   "cell_type": "code",
   "execution_count": 9,
   "metadata": {},
   "outputs": [],
   "source": [
    "#only 0.1727 data is fraud\n",
    "#to tackle this problem we use SMOTE method"
   ]
  },
  {
   "cell_type": "code",
   "execution_count": 10,
   "metadata": {},
   "outputs": [
    {
     "name": "stdout",
     "output_type": "stream",
     "text": [
      "<class 'pandas.core.frame.DataFrame'>\n",
      "RangeIndex: 284807 entries, 0 to 284806\n",
      "Data columns (total 31 columns):\n",
      " #   Column  Non-Null Count   Dtype  \n",
      "---  ------  --------------   -----  \n",
      " 0   Time    284807 non-null  float64\n",
      " 1   V1      284807 non-null  float64\n",
      " 2   V2      284807 non-null  float64\n",
      " 3   V3      284807 non-null  float64\n",
      " 4   V4      284807 non-null  float64\n",
      " 5   V5      284807 non-null  float64\n",
      " 6   V6      284807 non-null  float64\n",
      " 7   V7      284807 non-null  float64\n",
      " 8   V8      284807 non-null  float64\n",
      " 9   V9      284807 non-null  float64\n",
      " 10  V10     284807 non-null  float64\n",
      " 11  V11     284807 non-null  float64\n",
      " 12  V12     284807 non-null  float64\n",
      " 13  V13     284807 non-null  float64\n",
      " 14  V14     284807 non-null  float64\n",
      " 15  V15     284807 non-null  float64\n",
      " 16  V16     284807 non-null  float64\n",
      " 17  V17     284807 non-null  float64\n",
      " 18  V18     284807 non-null  float64\n",
      " 19  V19     284807 non-null  float64\n",
      " 20  V20     284807 non-null  float64\n",
      " 21  V21     284807 non-null  float64\n",
      " 22  V22     284807 non-null  float64\n",
      " 23  V23     284807 non-null  float64\n",
      " 24  V24     284807 non-null  float64\n",
      " 25  V25     284807 non-null  float64\n",
      " 26  V26     284807 non-null  float64\n",
      " 27  V27     284807 non-null  float64\n",
      " 28  V28     284807 non-null  float64\n",
      " 29  Amount  284807 non-null  float64\n",
      " 30  Class   284807 non-null  int64  \n",
      "dtypes: float64(30), int64(1)\n",
      "memory usage: 67.4 MB\n"
     ]
    }
   ],
   "source": [
    "dataset.info()"
   ]
  },
  {
   "cell_type": "code",
   "execution_count": 11,
   "metadata": {},
   "outputs": [],
   "source": [
    "# hence there is no missing value in the dataset"
   ]
  },
  {
   "cell_type": "code",
   "execution_count": 12,
   "metadata": {},
   "outputs": [],
   "source": [
    "import seaborn as sns"
   ]
  },
  {
   "cell_type": "code",
   "execution_count": 13,
   "metadata": {},
   "outputs": [],
   "source": [
    "x = dataset['V1']\n",
    "y = dataset['V2']"
   ]
  },
  {
   "cell_type": "code",
   "execution_count": 14,
   "metadata": {},
   "outputs": [
    {
     "data": {
      "text/plain": [
       "<matplotlib.axes._subplots.AxesSubplot at 0x7f4f715d9750>"
      ]
     },
     "execution_count": 14,
     "metadata": {},
     "output_type": "execute_result"
    },
    {
     "data": {
      "image/png": "[encoded data removed]",
      "text/plain": [
       "<Figure size 432x288 with 1 Axes>"
      ]
     },
     "metadata": {
      "needs_background": "light"
     },
     "output_type": "display_data"
    }
   ],
   "source": [
    "sns.scatterplot(x=\"V1\", y=\"V2\", hue=\"Class\",data=dataset)"
   ]
  },
  {
   "cell_type": "code",
   "execution_count": 15,
   "metadata": {},
   "outputs": [],
   "source": [
    "from sklearn.model_selection import train_test_split"
   ]
  },
  {
   "cell_type": "code",
   "execution_count": 16,
   "metadata": {},
   "outputs": [],
   "source": [
    "X = dataset.iloc[:,:-1]\n",
    "y = dataset.iloc[:,-1]"
   ]
  },
  {
   "cell_type": "code",
   "execution_count": 17,
   "metadata": {},
   "outputs": [],
   "source": [
    "X_train,X_test,y_train,y_test = train_test_split(X,y,test_size = 0.2)"
   ]
  },
  {
   "cell_type": "code",
   "execution_count": 18,
   "metadata": {},
   "outputs": [],
   "source": [
    "#pip install imblearn"
   ]
  },
  {
   "cell_type": "markdown",
   "metadata": {},
   "source": [
    "## OVERSAMPLING THE DATASET USING \n",
    "# imblearn.over_sampling.SMOTE "
   ]
  },
  {
   "cell_type": "code",
   "execution_count": 19,
   "metadata": {},
   "outputs": [],
   "source": [
    "from imblearn.over_sampling import SMOTE"
   ]
  },
  {
   "cell_type": "code",
   "execution_count": 20,
   "metadata": {},
   "outputs": [],
   "source": [
    "sm = SMOTE(random_state = 2)"
   ]
  },
  {
   "cell_type": "code",
   "execution_count": 21,
   "metadata": {},
   "outputs": [],
   "source": [
    "X_train_res, y_train_res = sm.fit_sample(X_train, y_train.ravel())"
   ]
  },
  {
   "cell_type": "code",
   "execution_count": 22,
   "metadata": {},
   "outputs": [
    {
     "data": {
      "text/plain": [
       "<matplotlib.legend.Legend at 0x7f4f73978710>"
      ]
     },
     "execution_count": 22,
     "metadata": {},
     "output_type": "execute_result"
    },
    {
     "data": {
      "image/png": "[encoded data removed]",
      "text/plain": [
       "<Figure size 432x288 with 1 Axes>"
      ]
     },
     "metadata": {
      "needs_background": "light"
     },
     "output_type": "display_data"
    }
   ],
   "source": [
    "for i in y_train_res:\n",
    "    if(i == 0):\n",
    "        legitimate_cases.append(i)\n",
    "    else:\n",
    "        fraud_cases.append(i)\n",
    "\n",
    "plt.bar([0],[len(legitimate_cases)],color = 'blue',label = 'legitimate cases')\n",
    "plt.bar([1],[len(fraud_cases)],color = 'red' ,label = 'fraud cases')\n",
    "plt.legend()"
   ]
  },
  {
   "cell_type": "code",
   "execution_count": 23,
   "metadata": {},
   "outputs": [
    {
     "data": {
      "text/plain": [
       "array([0, 0, 0, ..., 1, 1, 1])"
      ]
     },
     "execution_count": 23,
     "metadata": {},
     "output_type": "execute_result"
    }
   ],
   "source": [
    "y_train_res[0:]"
   ]
  },
  {
   "cell_type": "code",
   "execution_count": 24,
   "metadata": {},
   "outputs": [],
   "source": [
    "y_train_res = pd.DataFrame({'Class':y_train_res[0:]})"
   ]
  },
  {
   "cell_type": "code",
   "execution_count": 25,
   "metadata": {},
   "outputs": [],
   "source": [
    "df = pd.concat([X_train_res,y_train_res],axis = 1,sort = False)"
   ]
  },
  {
   "cell_type": "code",
   "execution_count": 26,
   "metadata": {},
   "outputs": [
    {
     "data": {
      "text/html": [
       "<div>\n",
       "<style scoped>\n",
       "    .dataframe tbody tr th:only-of-type {\n",
       "        vertical-align: middle;\n",
       "    }\n",
       "\n",
       "    .dataframe tbody tr th {\n",
       "        vertical-align: top;\n",
       "    }\n",
       "\n",
       "    .dataframe thead th {\n",
       "        text-align: right;\n",
       "    }\n",
       "</style>\n",
       "<table border=\"1\" class=\"dataframe\">\n",
       "  <thead>\n",
       "    <tr style=\"text-align: right;\">\n",
       "      <th></th>\n",
       "      <th>Time</th>\n",
       "      <th>V1</th>\n",
       "      <th>V2</th>\n",
       "      <th>V3</th>\n",
       "      <th>V4</th>\n",
       "      <th>V5</th>\n",
       "      <th>V6</th>\n",
       "      <th>V7</th>\n",
       "      <th>V8</th>\n",
       "      <th>V9</th>\n",
       "      <th>...</th>\n",
       "      <th>V21</th>\n",
       "      <th>V22</th>\n",
       "      <th>V23</th>\n",
       "      <th>V24</th>\n",
       "      <th>V25</th>\n",
       "      <th>V26</th>\n",
       "      <th>V27</th>\n",
       "      <th>V28</th>\n",
       "      <th>Amount</th>\n",
       "      <th>Class</th>\n",
       "    </tr>\n",
       "  </thead>\n",
       "  <tbody>\n",
       "    <tr>\n",
       "      <th>0</th>\n",
       "      <td>158500.000000</td>\n",
       "      <td>2.123091</td>\n",
       "      <td>-0.611523</td>\n",
       "      <td>-2.066717</td>\n",
       "      <td>-0.535344</td>\n",
       "      <td>0.109184</td>\n",
       "      <td>-0.836531</td>\n",
       "      <td>0.175971</td>\n",
       "      <td>-0.343183</td>\n",
       "      <td>-1.133538</td>\n",
       "      <td>...</td>\n",
       "      <td>-0.196733</td>\n",
       "      <td>-0.058319</td>\n",
       "      <td>0.050771</td>\n",
       "      <td>0.809093</td>\n",
       "      <td>0.207664</td>\n",
       "      <td>0.769441</td>\n",
       "      <td>-0.112797</td>\n",
       "      <td>-0.078106</td>\n",
       "      <td>42.130000</td>\n",
       "      <td>0</td>\n",
       "    </tr>\n",
       "    <tr>\n",
       "      <th>1</th>\n",
       "      <td>167178.000000</td>\n",
       "      <td>2.003452</td>\n",
       "      <td>-0.190761</td>\n",
       "      <td>-1.283953</td>\n",
       "      <td>0.250658</td>\n",
       "      <td>0.146777</td>\n",
       "      <td>-0.476372</td>\n",
       "      <td>0.049298</td>\n",
       "      <td>-0.084612</td>\n",
       "      <td>0.362473</td>\n",
       "      <td>...</td>\n",
       "      <td>-0.198405</td>\n",
       "      <td>-0.517549</td>\n",
       "      <td>0.305511</td>\n",
       "      <td>0.768171</td>\n",
       "      <td>-0.226738</td>\n",
       "      <td>0.220324</td>\n",
       "      <td>-0.086629</td>\n",
       "      <td>-0.064750</td>\n",
       "      <td>14.850000</td>\n",
       "      <td>0</td>\n",
       "    </tr>\n",
       "    <tr>\n",
       "      <th>2</th>\n",
       "      <td>153163.000000</td>\n",
       "      <td>2.020654</td>\n",
       "      <td>-1.476279</td>\n",
       "      <td>-1.984628</td>\n",
       "      <td>-1.849571</td>\n",
       "      <td>1.240964</td>\n",
       "      <td>3.689324</td>\n",
       "      <td>-1.540798</td>\n",
       "      <td>0.936304</td>\n",
       "      <td>-0.038394</td>\n",
       "      <td>...</td>\n",
       "      <td>0.361960</td>\n",
       "      <td>0.868711</td>\n",
       "      <td>0.115567</td>\n",
       "      <td>0.744941</td>\n",
       "      <td>-0.135187</td>\n",
       "      <td>-0.074367</td>\n",
       "      <td>0.017651</td>\n",
       "      <td>-0.042649</td>\n",
       "      <td>79.000000</td>\n",
       "      <td>0</td>\n",
       "    </tr>\n",
       "    <tr>\n",
       "      <th>3</th>\n",
       "      <td>95028.000000</td>\n",
       "      <td>-0.730434</td>\n",
       "      <td>0.757723</td>\n",
       "      <td>1.348391</td>\n",
       "      <td>-0.539293</td>\n",
       "      <td>0.389172</td>\n",
       "      <td>0.157758</td>\n",
       "      <td>0.216293</td>\n",
       "      <td>-0.124308</td>\n",
       "      <td>1.674983</td>\n",
       "      <td>...</td>\n",
       "      <td>0.164081</td>\n",
       "      <td>0.832698</td>\n",
       "      <td>-0.142220</td>\n",
       "      <td>0.637757</td>\n",
       "      <td>-0.406964</td>\n",
       "      <td>0.465065</td>\n",
       "      <td>-0.263608</td>\n",
       "      <td>0.160384</td>\n",
       "      <td>9.480000</td>\n",
       "      <td>0</td>\n",
       "    </tr>\n",
       "    <tr>\n",
       "      <th>4</th>\n",
       "      <td>120101.000000</td>\n",
       "      <td>0.095513</td>\n",
       "      <td>1.160932</td>\n",
       "      <td>0.073123</td>\n",
       "      <td>1.033526</td>\n",
       "      <td>0.632896</td>\n",
       "      <td>-0.955337</td>\n",
       "      <td>1.048202</td>\n",
       "      <td>-0.232959</td>\n",
       "      <td>-0.173197</td>\n",
       "      <td>...</td>\n",
       "      <td>0.250209</td>\n",
       "      <td>1.072865</td>\n",
       "      <td>-0.084490</td>\n",
       "      <td>0.332583</td>\n",
       "      <td>-0.841435</td>\n",
       "      <td>-0.614624</td>\n",
       "      <td>0.331251</td>\n",
       "      <td>0.300554</td>\n",
       "      <td>6.990000</td>\n",
       "      <td>0</td>\n",
       "    </tr>\n",
       "    <tr>\n",
       "      <th>...</th>\n",
       "      <td>...</td>\n",
       "      <td>...</td>\n",
       "      <td>...</td>\n",
       "      <td>...</td>\n",
       "      <td>...</td>\n",
       "      <td>...</td>\n",
       "      <td>...</td>\n",
       "      <td>...</td>\n",
       "      <td>...</td>\n",
       "      <td>...</td>\n",
       "      <td>...</td>\n",
       "      <td>...</td>\n",
       "      <td>...</td>\n",
       "      <td>...</td>\n",
       "      <td>...</td>\n",
       "      <td>...</td>\n",
       "      <td>...</td>\n",
       "      <td>...</td>\n",
       "      <td>...</td>\n",
       "      <td>...</td>\n",
       "      <td>...</td>\n",
       "    </tr>\n",
       "    <tr>\n",
       "      <th>454901</th>\n",
       "      <td>93847.244909</td>\n",
       "      <td>-5.960141</td>\n",
       "      <td>5.692202</td>\n",
       "      <td>-10.529927</td>\n",
       "      <td>9.375007</td>\n",
       "      <td>-6.606912</td>\n",
       "      <td>-3.218070</td>\n",
       "      <td>-11.096667</td>\n",
       "      <td>4.040593</td>\n",
       "      <td>-5.196517</td>\n",
       "      <td>...</td>\n",
       "      <td>2.496403</td>\n",
       "      <td>1.041982</td>\n",
       "      <td>-0.267275</td>\n",
       "      <td>0.581520</td>\n",
       "      <td>-0.077669</td>\n",
       "      <td>0.455853</td>\n",
       "      <td>0.966847</td>\n",
       "      <td>0.568557</td>\n",
       "      <td>5.801459</td>\n",
       "      <td>1</td>\n",
       "    </tr>\n",
       "    <tr>\n",
       "      <th>454902</th>\n",
       "      <td>17471.836847</td>\n",
       "      <td>-1.409132</td>\n",
       "      <td>3.397666</td>\n",
       "      <td>-5.456962</td>\n",
       "      <td>5.303558</td>\n",
       "      <td>-4.325561</td>\n",
       "      <td>0.146903</td>\n",
       "      <td>-3.824278</td>\n",
       "      <td>2.106079</td>\n",
       "      <td>-1.471897</td>\n",
       "      <td>...</td>\n",
       "      <td>0.552275</td>\n",
       "      <td>-0.310800</td>\n",
       "      <td>0.258475</td>\n",
       "      <td>-0.465407</td>\n",
       "      <td>-0.338270</td>\n",
       "      <td>0.011989</td>\n",
       "      <td>0.253559</td>\n",
       "      <td>-0.039646</td>\n",
       "      <td>314.539554</td>\n",
       "      <td>1</td>\n",
       "    </tr>\n",
       "    <tr>\n",
       "      <th>454903</th>\n",
       "      <td>64492.169484</td>\n",
       "      <td>-7.639772</td>\n",
       "      <td>-0.728303</td>\n",
       "      <td>-5.165161</td>\n",
       "      <td>5.190088</td>\n",
       "      <td>-3.864793</td>\n",
       "      <td>-0.208832</td>\n",
       "      <td>-3.780429</td>\n",
       "      <td>1.260128</td>\n",
       "      <td>-2.155859</td>\n",
       "      <td>...</td>\n",
       "      <td>0.426815</td>\n",
       "      <td>0.515639</td>\n",
       "      <td>-2.289889</td>\n",
       "      <td>0.010677</td>\n",
       "      <td>-0.592185</td>\n",
       "      <td>0.438494</td>\n",
       "      <td>0.349440</td>\n",
       "      <td>-0.904940</td>\n",
       "      <td>540.331549</td>\n",
       "      <td>1</td>\n",
       "    </tr>\n",
       "    <tr>\n",
       "      <th>454904</th>\n",
       "      <td>56992.856181</td>\n",
       "      <td>-1.516090</td>\n",
       "      <td>2.472195</td>\n",
       "      <td>-3.037316</td>\n",
       "      <td>2.473077</td>\n",
       "      <td>-1.523945</td>\n",
       "      <td>-0.925479</td>\n",
       "      <td>-3.272670</td>\n",
       "      <td>1.166835</td>\n",
       "      <td>-2.352735</td>\n",
       "      <td>...</td>\n",
       "      <td>0.631699</td>\n",
       "      <td>0.119248</td>\n",
       "      <td>-0.201351</td>\n",
       "      <td>-0.520298</td>\n",
       "      <td>0.201889</td>\n",
       "      <td>0.736293</td>\n",
       "      <td>0.625076</td>\n",
       "      <td>0.237064</td>\n",
       "      <td>5.676760</td>\n",
       "      <td>1</td>\n",
       "    </tr>\n",
       "    <tr>\n",
       "      <th>454905</th>\n",
       "      <td>56804.172316</td>\n",
       "      <td>-4.782428</td>\n",
       "      <td>2.599199</td>\n",
       "      <td>-5.517568</td>\n",
       "      <td>4.455417</td>\n",
       "      <td>-3.547677</td>\n",
       "      <td>-0.622434</td>\n",
       "      <td>-6.039939</td>\n",
       "      <td>1.165605</td>\n",
       "      <td>-3.472856</td>\n",
       "      <td>...</td>\n",
       "      <td>0.348328</td>\n",
       "      <td>0.617071</td>\n",
       "      <td>0.065407</td>\n",
       "      <td>-0.476482</td>\n",
       "      <td>-0.096121</td>\n",
       "      <td>0.468931</td>\n",
       "      <td>0.522024</td>\n",
       "      <td>0.061999</td>\n",
       "      <td>81.273468</td>\n",
       "      <td>1</td>\n",
       "    </tr>\n",
       "  </tbody>\n",
       "</table>\n",
       "<p>454906 rows × 31 columns</p>\n",
       "</div>"
      ],
      "text/plain": [
       "                 Time        V1        V2         V3        V4        V5  \\\n",
       "0       158500.000000  2.123091 -0.611523  -2.066717 -0.535344  0.109184   \n",
       "1       167178.000000  2.003452 -0.190761  -1.283953  0.250658  0.146777   \n",
       "2       153163.000000  2.020654 -1.476279  -1.984628 -1.849571  1.240964   \n",
       "3        95028.000000 -0.730434  0.757723   1.348391 -0.539293  0.389172   \n",
       "4       120101.000000  0.095513  1.160932   0.073123  1.033526  0.632896   \n",
       "...               ...       ...       ...        ...       ...       ...   \n",
       "454901   93847.244909 -5.960141  5.692202 -10.529927  9.375007 -6.606912   \n",
       "454902   17471.836847 -1.409132  3.397666  -5.456962  5.303558 -4.325561   \n",
       "454903   64492.169484 -7.639772 -0.728303  -5.165161  5.190088 -3.864793   \n",
       "454904   56992.856181 -1.516090  2.472195  -3.037316  2.473077 -1.523945   \n",
       "454905   56804.172316 -4.782428  2.599199  -5.517568  4.455417 -3.547677   \n",
       "\n",
       "              V6         V7        V8        V9  ...       V21       V22  \\\n",
       "0      -0.836531   0.175971 -0.343183 -1.133538  ... -0.196733 -0.058319   \n",
       "1      -0.476372   0.049298 -0.084612  0.362473  ... -0.198405 -0.517549   \n",
       "2       3.689324  -1.540798  0.936304 -0.038394  ...  0.361960  0.868711   \n",
       "3       0.157758   0.216293 -0.124308  1.674983  ...  0.164081  0.832698   \n",
       "4      -0.955337   1.048202 -0.232959 -0.173197  ...  0.250209  1.072865   \n",
       "...          ...        ...       ...       ...  ...       ...       ...   \n",
       "454901 -3.218070 -11.096667  4.040593 -5.196517  ...  2.496403  1.041982   \n",
       "454902  0.146903  -3.824278  2.106079 -1.471897  ...  0.552275 -0.310800   \n",
       "454903 -0.208832  -3.780429  1.260128 -2.155859  ...  0.426815  0.515639   \n",
       "454904 -0.925479  -3.272670  1.166835 -2.352735  ...  0.631699  0.119248   \n",
       "454905 -0.622434  -6.039939  1.165605 -3.472856  ...  0.348328  0.617071   \n",
       "\n",
       "             V23       V24       V25       V26       V27       V28  \\\n",
       "0       0.050771  0.809093  0.207664  0.769441 -0.112797 -0.078106   \n",
       "1       0.305511  0.768171 -0.226738  0.220324 -0.086629 -0.064750   \n",
       "2       0.115567  0.744941 -0.135187 -0.074367  0.017651 -0.042649   \n",
       "3      -0.142220  0.637757 -0.406964  0.465065 -0.263608  0.160384   \n",
       "4      -0.084490  0.332583 -0.841435 -0.614624  0.331251  0.300554   \n",
       "...          ...       ...       ...       ...       ...       ...   \n",
       "454901 -0.267275  0.581520 -0.077669  0.455853  0.966847  0.568557   \n",
       "454902  0.258475 -0.465407 -0.338270  0.011989  0.253559 -0.039646   \n",
       "454903 -2.289889  0.010677 -0.592185  0.438494  0.349440 -0.904940   \n",
       "454904 -0.201351 -0.520298  0.201889  0.736293  0.625076  0.237064   \n",
       "454905  0.065407 -0.476482 -0.096121  0.468931  0.522024  0.061999   \n",
       "\n",
       "            Amount  Class  \n",
       "0        42.130000      0  \n",
       "1        14.850000      0  \n",
       "2        79.000000      0  \n",
       "3         9.480000      0  \n",
       "4         6.990000      0  \n",
       "...            ...    ...  \n",
       "454901    5.801459      1  \n",
       "454902  314.539554      1  \n",
       "454903  540.331549      1  \n",
       "454904    5.676760      1  \n",
       "454905   81.273468      1  \n",
       "\n",
       "[454906 rows x 31 columns]"
      ]
     },
     "execution_count": 26,
     "metadata": {},
     "output_type": "execute_result"
    }
   ],
   "source": [
    "df"
   ]
  },
  {
   "cell_type": "code",
   "execution_count": 27,
   "metadata": {},
   "outputs": [
    {
     "data": {
      "text/plain": [
       "<matplotlib.axes._subplots.AxesSubplot at 0x7f4fa061cb50>"
      ]
     },
     "execution_count": 27,
     "metadata": {},
     "output_type": "execute_result"
    },
    {
     "data": {
      "image/png": "[encoded data removed]",
      "text/plain": [
       "<Figure size 432x288 with 1 Axes>"
      ]
     },
     "metadata": {
      "needs_background": "light"
     },
     "output_type": "display_data"
    }
   ],
   "source": [
    "sns.scatterplot(x=\"V1\", y=\"V2\", hue=\"Class\",data=df)"
   ]
  },
  {
   "cell_type": "code",
   "execution_count": 28,
   "metadata": {},
   "outputs": [
    {
     "data": {
      "text/plain": [
       "30.815329729232825"
      ]
     },
     "execution_count": 28,
     "metadata": {},
     "output_type": "execute_result"
    }
   ],
   "source": [
    "p = len(fraud_cases)/(len(legitimate_cases) + len(fraud_cases)) * 100\n",
    "p"
   ]
  },
  {
   "cell_type": "code",
   "execution_count": 29,
   "metadata": {},
   "outputs": [],
   "source": [
    "#we have around 30% of fraud cases"
   ]
  },
  {
   "cell_type": "markdown",
   "metadata": {},
   "source": [
    "## IMPLEMENTING LOGISTIC REGRESSION\n"
   ]
  },
  {
   "cell_type": "code",
   "execution_count": 30,
   "metadata": {},
   "outputs": [],
   "source": [
    "import statsmodels.api as stats"
   ]
  },
  {
   "cell_type": "code",
   "execution_count": 31,
   "metadata": {},
   "outputs": [
    {
     "name": "stdout",
     "output_type": "stream",
     "text": [
      "Optimization terminated successfully.\n",
      "         Current function value: 0.060921\n",
      "         Iterations 15\n"
     ]
    }
   ],
   "source": [
    "x=stats.add_constant(X_train_res)\n",
    "reg_log = stats.Logit(y_train_res,x)\n",
    "results_temp_log = reg_log.fit()\n",
    "#iterations is less than 35"
   ]
  },
  {
   "cell_type": "code",
   "execution_count": 32,
   "metadata": {},
   "outputs": [
    {
     "data": {
      "text/html": [
       "<table class=\"simpletable\">\n",
       "<caption>Logit Regression Results</caption>\n",
       "<tr>\n",
       "  <th>Dep. Variable:</th>         <td>Class</td>      <th>  No. Observations:  </th>   <td>454906</td>   \n",
       "</tr>\n",
       "<tr>\n",
       "  <th>Model:</th>                 <td>Logit</td>      <th>  Df Residuals:      </th>   <td>454875</td>   \n",
       "</tr>\n",
       "<tr>\n",
       "  <th>Method:</th>                 <td>MLE</td>       <th>  Df Model:          </th>   <td>    30</td>   \n",
       "</tr>\n",
       "<tr>\n",
       "  <th>Date:</th>            <td>Mon, 25 May 2020</td> <th>  Pseudo R-squ.:     </th>   <td>0.9121</td>   \n",
       "</tr>\n",
       "<tr>\n",
       "  <th>Time:</th>                <td>21:16:50</td>     <th>  Log-Likelihood:    </th>  <td> -27713.</td>  \n",
       "</tr>\n",
       "<tr>\n",
       "  <th>converged:</th>             <td>True</td>       <th>  LL-Null:           </th> <td>-3.1532e+05</td>\n",
       "</tr>\n",
       "<tr>\n",
       "  <th>Covariance Type:</th>     <td>nonrobust</td>    <th>  LLR p-value:       </th>   <td> 0.000</td>   \n",
       "</tr>\n",
       "</table>\n",
       "<table class=\"simpletable\">\n",
       "<tr>\n",
       "     <td></td>       <th>coef</th>     <th>std err</th>      <th>z</th>      <th>P>|z|</th>  <th>[0.025</th>    <th>0.975]</th>  \n",
       "</tr>\n",
       "<tr>\n",
       "  <th>const</th>  <td>   -5.7808</td> <td>    0.062</td> <td>  -92.932</td> <td> 0.000</td> <td>   -5.903</td> <td>   -5.659</td>\n",
       "</tr>\n",
       "<tr>\n",
       "  <th>Time</th>   <td>-1.451e-05</td> <td> 3.91e-07</td> <td>  -37.064</td> <td> 0.000</td> <td>-1.53e-05</td> <td>-1.37e-05</td>\n",
       "</tr>\n",
       "<tr>\n",
       "  <th>V1</th>     <td>    1.5712</td> <td>    0.026</td> <td>   59.323</td> <td> 0.000</td> <td>    1.519</td> <td>    1.623</td>\n",
       "</tr>\n",
       "<tr>\n",
       "  <th>V2</th>     <td>    1.5028</td> <td>    0.043</td> <td>   35.220</td> <td> 0.000</td> <td>    1.419</td> <td>    1.586</td>\n",
       "</tr>\n",
       "<tr>\n",
       "  <th>V3</th>     <td>    0.9598</td> <td>    0.021</td> <td>   45.664</td> <td> 0.000</td> <td>    0.919</td> <td>    1.001</td>\n",
       "</tr>\n",
       "<tr>\n",
       "  <th>V4</th>     <td>    0.8827</td> <td>    0.016</td> <td>   53.832</td> <td> 0.000</td> <td>    0.851</td> <td>    0.915</td>\n",
       "</tr>\n",
       "<tr>\n",
       "  <th>V5</th>     <td>    1.5820</td> <td>    0.032</td> <td>   49.458</td> <td> 0.000</td> <td>    1.519</td> <td>    1.645</td>\n",
       "</tr>\n",
       "<tr>\n",
       "  <th>V6</th>     <td>   -1.0112</td> <td>    0.022</td> <td>  -45.777</td> <td> 0.000</td> <td>   -1.054</td> <td>   -0.968</td>\n",
       "</tr>\n",
       "<tr>\n",
       "  <th>V7</th>     <td>   -1.6968</td> <td>    0.040</td> <td>  -41.899</td> <td> 0.000</td> <td>   -1.776</td> <td>   -1.617</td>\n",
       "</tr>\n",
       "<tr>\n",
       "  <th>V8</th>     <td>   -0.3483</td> <td>    0.015</td> <td>  -23.672</td> <td> 0.000</td> <td>   -0.377</td> <td>   -0.319</td>\n",
       "</tr>\n",
       "<tr>\n",
       "  <th>V9</th>     <td>   -0.6789</td> <td>    0.026</td> <td>  -26.299</td> <td> 0.000</td> <td>   -0.729</td> <td>   -0.628</td>\n",
       "</tr>\n",
       "<tr>\n",
       "  <th>V10</th>    <td>   -1.5997</td> <td>    0.033</td> <td>  -49.172</td> <td> 0.000</td> <td>   -1.663</td> <td>   -1.536</td>\n",
       "</tr>\n",
       "<tr>\n",
       "  <th>V11</th>    <td>    0.9187</td> <td>    0.016</td> <td>   55.694</td> <td> 0.000</td> <td>    0.886</td> <td>    0.951</td>\n",
       "</tr>\n",
       "<tr>\n",
       "  <th>V12</th>    <td>   -1.7278</td> <td>    0.022</td> <td>  -77.169</td> <td> 0.000</td> <td>   -1.772</td> <td>   -1.684</td>\n",
       "</tr>\n",
       "<tr>\n",
       "  <th>V13</th>    <td>   -0.5756</td> <td>    0.013</td> <td>  -44.647</td> <td> 0.000</td> <td>   -0.601</td> <td>   -0.550</td>\n",
       "</tr>\n",
       "<tr>\n",
       "  <th>V14</th>    <td>   -2.2453</td> <td>    0.025</td> <td>  -89.475</td> <td> 0.000</td> <td>   -2.294</td> <td>   -2.196</td>\n",
       "</tr>\n",
       "<tr>\n",
       "  <th>V15</th>    <td>   -0.1931</td> <td>    0.014</td> <td>  -13.914</td> <td> 0.000</td> <td>   -0.220</td> <td>   -0.166</td>\n",
       "</tr>\n",
       "<tr>\n",
       "  <th>V16</th>    <td>   -0.6863</td> <td>    0.031</td> <td>  -22.225</td> <td> 0.000</td> <td>   -0.747</td> <td>   -0.626</td>\n",
       "</tr>\n",
       "<tr>\n",
       "  <th>V17</th>    <td>   -1.9838</td> <td>    0.031</td> <td>  -64.743</td> <td> 0.000</td> <td>   -2.044</td> <td>   -1.924</td>\n",
       "</tr>\n",
       "<tr>\n",
       "  <th>V18</th>    <td>   -0.9391</td> <td>    0.029</td> <td>  -32.543</td> <td> 0.000</td> <td>   -0.996</td> <td>   -0.883</td>\n",
       "</tr>\n",
       "<tr>\n",
       "  <th>V19</th>    <td>    1.0415</td> <td>    0.022</td> <td>   47.967</td> <td> 0.000</td> <td>    0.999</td> <td>    1.084</td>\n",
       "</tr>\n",
       "<tr>\n",
       "  <th>V20</th>    <td>   -1.8234</td> <td>    0.045</td> <td>  -40.937</td> <td> 0.000</td> <td>   -1.911</td> <td>   -1.736</td>\n",
       "</tr>\n",
       "<tr>\n",
       "  <th>V21</th>    <td>   -0.1022</td> <td>    0.022</td> <td>   -4.602</td> <td> 0.000</td> <td>   -0.146</td> <td>   -0.059</td>\n",
       "</tr>\n",
       "<tr>\n",
       "  <th>V22</th>    <td>    1.1133</td> <td>    0.026</td> <td>   43.577</td> <td> 0.000</td> <td>    1.063</td> <td>    1.163</td>\n",
       "</tr>\n",
       "<tr>\n",
       "  <th>V23</th>    <td>    1.5676</td> <td>    0.038</td> <td>   40.879</td> <td> 0.000</td> <td>    1.492</td> <td>    1.643</td>\n",
       "</tr>\n",
       "<tr>\n",
       "  <th>V24</th>    <td>   -0.1260</td> <td>    0.026</td> <td>   -4.858</td> <td> 0.000</td> <td>   -0.177</td> <td>   -0.075</td>\n",
       "</tr>\n",
       "<tr>\n",
       "  <th>V25</th>    <td>   -0.0500</td> <td>    0.028</td> <td>   -1.788</td> <td> 0.074</td> <td>   -0.105</td> <td>    0.005</td>\n",
       "</tr>\n",
       "<tr>\n",
       "  <th>V26</th>    <td>    0.1704</td> <td>    0.028</td> <td>    6.160</td> <td> 0.000</td> <td>    0.116</td> <td>    0.225</td>\n",
       "</tr>\n",
       "<tr>\n",
       "  <th>V27</th>    <td>   -0.6703</td> <td>    0.053</td> <td>  -12.683</td> <td> 0.000</td> <td>   -0.774</td> <td>   -0.567</td>\n",
       "</tr>\n",
       "<tr>\n",
       "  <th>V28</th>    <td>    1.3924</td> <td>    0.055</td> <td>   25.474</td> <td> 0.000</td> <td>    1.285</td> <td>    1.500</td>\n",
       "</tr>\n",
       "<tr>\n",
       "  <th>Amount</th> <td>    0.0186</td> <td>    0.000</td> <td>   45.048</td> <td> 0.000</td> <td>    0.018</td> <td>    0.019</td>\n",
       "</tr>\n",
       "</table><br/><br/>Possibly complete quasi-separation: A fraction 0.49 of observations can be<br/>perfectly predicted. This might indicate that there is complete<br/>quasi-separation. In this case some parameters will not be identified."
      ],
      "text/plain": [
       "<class 'statsmodels.iolib.summary.Summary'>\n",
       "\"\"\"\n",
       "                           Logit Regression Results                           \n",
       "==============================================================================\n",
       "Dep. Variable:                  Class   No. Observations:               454906\n",
       "Model:                          Logit   Df Residuals:                   454875\n",
       "Method:                           MLE   Df Model:                           30\n",
       "Date:                Mon, 25 May 2020   Pseudo R-squ.:                  0.9121\n",
       "Time:                        21:16:50   Log-Likelihood:                -27713.\n",
       "converged:                       True   LL-Null:                   -3.1532e+05\n",
       "Covariance Type:            nonrobust   LLR p-value:                     0.000\n",
       "==============================================================================\n",
       "                 coef    std err          z      P>|z|      [0.025      0.975]\n",
       "------------------------------------------------------------------------------\n",
       "const         -5.7808      0.062    -92.932      0.000      -5.903      -5.659\n",
       "Time       -1.451e-05   3.91e-07    -37.064      0.000   -1.53e-05   -1.37e-05\n",
       "V1             1.5712      0.026     59.323      0.000       1.519       1.623\n",
       "V2             1.5028      0.043     35.220      0.000       1.419       1.586\n",
       "V3             0.9598      0.021     45.664      0.000       0.919       1.001\n",
       "V4             0.8827      0.016     53.832      0.000       0.851       0.915\n",
       "V5             1.5820      0.032     49.458      0.000       1.519       1.645\n",
       "V6            -1.0112      0.022    -45.777      0.000      -1.054      -0.968\n",
       "V7            -1.6968      0.040    -41.899      0.000      -1.776      -1.617\n",
       "V8            -0.3483      0.015    -23.672      0.000      -0.377      -0.319\n",
       "V9            -0.6789      0.026    -26.299      0.000      -0.729      -0.628\n",
       "V10           -1.5997      0.033    -49.172      0.000      -1.663      -1.536\n",
       "V11            0.9187      0.016     55.694      0.000       0.886       0.951\n",
       "V12           -1.7278      0.022    -77.169      0.000      -1.772      -1.684\n",
       "V13           -0.5756      0.013    -44.647      0.000      -0.601      -0.550\n",
       "V14           -2.2453      0.025    -89.475      0.000      -2.294      -2.196\n",
       "V15           -0.1931      0.014    -13.914      0.000      -0.220      -0.166\n",
       "V16           -0.6863      0.031    -22.225      0.000      -0.747      -0.626\n",
       "V17           -1.9838      0.031    -64.743      0.000      -2.044      -1.924\n",
       "V18           -0.9391      0.029    -32.543      0.000      -0.996      -0.883\n",
       "V19            1.0415      0.022     47.967      0.000       0.999       1.084\n",
       "V20           -1.8234      0.045    -40.937      0.000      -1.911      -1.736\n",
       "V21           -0.1022      0.022     -4.602      0.000      -0.146      -0.059\n",
       "V22            1.1133      0.026     43.577      0.000       1.063       1.163\n",
       "V23            1.5676      0.038     40.879      0.000       1.492       1.643\n",
       "V24           -0.1260      0.026     -4.858      0.000      -0.177      -0.075\n",
       "V25           -0.0500      0.028     -1.788      0.074      -0.105       0.005\n",
       "V26            0.1704      0.028      6.160      0.000       0.116       0.225\n",
       "V27           -0.6703      0.053    -12.683      0.000      -0.774      -0.567\n",
       "V28            1.3924      0.055     25.474      0.000       1.285       1.500\n",
       "Amount         0.0186      0.000     45.048      0.000       0.018       0.019\n",
       "==============================================================================\n",
       "\n",
       "Possibly complete quasi-separation: A fraction 0.49 of observations can be\n",
       "perfectly predicted. This might indicate that there is complete\n",
       "quasi-separation. In this case some parameters will not be identified.\n",
       "\"\"\""
      ]
     },
     "execution_count": 32,
     "metadata": {},
     "output_type": "execute_result"
    }
   ],
   "source": [
    "results_temp_log.summary()\n",
    "\n",
    "# the LLR value in summary table is 0.000 hence the model is significant"
   ]
  },
  {
   "cell_type": "code",
   "execution_count": 33,
   "metadata": {},
   "outputs": [],
   "source": [
    "from sklearn.linear_model import LogisticRegression"
   ]
  },
  {
   "cell_type": "code",
   "execution_count": 34,
   "metadata": {},
   "outputs": [],
   "source": [
    "LR=LogisticRegression(max_iter=400)"
   ]
  },
  {
   "cell_type": "code",
   "execution_count": 35,
   "metadata": {},
   "outputs": [
    {
     "data": {
      "text/plain": [
       "LogisticRegression(C=1.0, class_weight=None, dual=False, fit_intercept=True,\n",
       "                   intercept_scaling=1, l1_ratio=None, max_iter=400,\n",
       "                   multi_class='auto', n_jobs=None, penalty='l2',\n",
       "                   random_state=None, solver='lbfgs', tol=0.0001, verbose=0,\n",
       "                   warm_start=False)"
      ]
     },
     "execution_count": 35,
     "metadata": {},
     "output_type": "execute_result"
    }
   ],
   "source": [
    "LR.fit(X_train_res,y_train_res.values.ravel())"
   ]
  },
  {
   "cell_type": "code",
   "execution_count": 36,
   "metadata": {},
   "outputs": [],
   "source": [
    "y_pred_LR = LR.predict(X_test)"
   ]
  },
  {
   "cell_type": "code",
   "execution_count": 37,
   "metadata": {},
   "outputs": [
    {
     "name": "stdout",
     "output_type": "stream",
     "text": [
      "[[56101   761]\n",
      " [   16    84]]\n"
     ]
    }
   ],
   "source": [
    "from sklearn.metrics import confusion_matrix \n",
    "results_LR = confusion_matrix(y_test,y_pred_LR)\n",
    "print(results_LR)"
   ]
  },
  {
   "cell_type": "code",
   "execution_count": 38,
   "metadata": {},
   "outputs": [
    {
     "name": "stdout",
     "output_type": "stream",
     "text": [
      "[[56101   761]\n",
      " [   16    84]]\n"
     ]
    }
   ],
   "source": [
    "results_LR = confusion_matrix(y_test,y_pred_LR)\n",
    "print(results_LR)"
   ]
  },
  {
   "cell_type": "code",
   "execution_count": 39,
   "metadata": {},
   "outputs": [
    {
     "data": {
      "text/plain": [
       "0.9863593272708121"
      ]
     },
     "execution_count": 39,
     "metadata": {},
     "output_type": "execute_result"
    }
   ],
   "source": [
    "import sklearn.metrics as metrics\n",
    "score_LR = metrics.accuracy_score(y_test, y_pred_LR)\n",
    "score_LR"
   ]
  },
  {
   "cell_type": "code",
   "execution_count": 40,
   "metadata": {},
   "outputs": [
    {
     "data": {
      "text/plain": [
       "0.9863593272708121"
      ]
     },
     "execution_count": 40,
     "metadata": {},
     "output_type": "execute_result"
    }
   ],
   "source": [
    "score_LR = metrics.accuracy_score(y_test, y_pred_LR)\n",
    "score_LR"
   ]
  },
  {
   "cell_type": "code",
   "execution_count": 41,
   "metadata": {},
   "outputs": [],
   "source": [
    "from sklearn.metrics import mean_squared_error\n",
    "\n",
    "from math import sqrt"
   ]
  },
  {
   "cell_type": "code",
   "execution_count": 42,
   "metadata": {},
   "outputs": [
    {
     "data": {
      "text/plain": [
       "0.11679329060005066"
      ]
     },
     "execution_count": 42,
     "metadata": {},
     "output_type": "execute_result"
    }
   ],
   "source": [
    "score_LR_RMSE = sqrt(metrics.mean_squared_error(y_test, y_pred_LR))\n",
    "score_LR_RMSE"
   ]
  },
  {
   "cell_type": "code",
   "execution_count": 43,
   "metadata": {},
   "outputs": [
    {
     "name": "stdout",
     "output_type": "stream",
     "text": [
      "Missclassification rate:0.01364067272918788\n"
     ]
    }
   ],
   "source": [
    "non_common = results_LR[0][1]+results_LR[1][0]\n",
    "overall = y_test.shape[0]\n",
    "\n",
    "print('Missclassification rate:'+str(non_common/overall))"
   ]
  },
  {
   "cell_type": "code",
   "execution_count": 44,
   "metadata": {},
   "outputs": [
    {
     "data": {
      "image/png": "[encoded data removed]",
      "text/plain": [
       "<Figure size 432x288 with 1 Axes>"
      ]
     },
     "metadata": {
      "needs_background": "light"
     },
     "output_type": "display_data"
    }
   ],
   "source": [
    "plt.scatter(y_test,y_pred_LR)\n",
    "plt.show()"
   ]
  },
  {
   "cell_type": "markdown",
   "metadata": {},
   "source": [
    "## IMPLEMENTING DECISION TREE\n"
   ]
  },
  {
   "cell_type": "code",
   "execution_count": 45,
   "metadata": {},
   "outputs": [],
   "source": [
    "from sklearn import tree"
   ]
  },
  {
   "cell_type": "code",
   "execution_count": 46,
   "metadata": {},
   "outputs": [],
   "source": [
    "clf = tree.DecisionTreeClassifier()"
   ]
  },
  {
   "cell_type": "code",
   "execution_count": 47,
   "metadata": {},
   "outputs": [],
   "source": [
    "clf = clf.fit(X_train_res,y_train_res)"
   ]
  },
  {
   "cell_type": "code",
   "execution_count": 48,
   "metadata": {},
   "outputs": [
    {
     "data": {
      "image/png": "[encoded data removed]",
      "text/plain": [
       "<Figure size 720x720 with 1 Axes>"
      ]
     },
     "metadata": {
      "needs_background": "light"
     },
     "output_type": "display_data"
    }
   ],
   "source": [
    "fig, ax = plt.subplots(figsize=(10, 10))\n",
    "tree.plot_tree(clf.fit(X_train_res, y_train_res), ax=ax)\n",
    "plt.show()"
   ]
  },
  {
   "cell_type": "code",
   "execution_count": 49,
   "metadata": {},
   "outputs": [],
   "source": [
    "y_pred = clf.predict(X_test)"
   ]
  },
  {
   "cell_type": "code",
   "execution_count": 50,
   "metadata": {},
   "outputs": [
    {
     "name": "stdout",
     "output_type": "stream",
     "text": [
      "[[56782    80]\n",
      " [   25    75]]\n"
     ]
    }
   ],
   "source": [
    "from sklearn.metrics import confusion_matrix \n",
    "results = confusion_matrix(y_test,y_pred)\n",
    "print(results)"
   ]
  },
  {
   "cell_type": "code",
   "execution_count": 51,
   "metadata": {},
   "outputs": [
    {
     "data": {
      "text/plain": [
       "(56962,)"
      ]
     },
     "execution_count": 51,
     "metadata": {},
     "output_type": "execute_result"
    }
   ],
   "source": [
    "y_test.shape"
   ]
  },
  {
   "cell_type": "code",
   "execution_count": 52,
   "metadata": {},
   "outputs": [
    {
     "data": {
      "text/plain": [
       "'              precision    recall  f1-score   support\\n\\n           0       1.00      1.00      1.00     56862\\n           1       0.48      0.75      0.59       100\\n\\n    accuracy                           1.00     56962\\n   macro avg       0.74      0.87      0.79     56962\\nweighted avg       1.00      1.00      1.00     56962\\n'"
      ]
     },
     "execution_count": 52,
     "metadata": {},
     "output_type": "execute_result"
    }
   ],
   "source": [
    "from sklearn.metrics import classification_report \n",
    "report = classification_report(y_test,y_pred)\n",
    "report"
   ]
  },
  {
   "cell_type": "code",
   "execution_count": 53,
   "metadata": {},
   "outputs": [
    {
     "data": {
      "text/plain": [
       "0.998156665847407"
      ]
     },
     "execution_count": 53,
     "metadata": {},
     "output_type": "execute_result"
    }
   ],
   "source": [
    "import sklearn.metrics as metrics\n",
    "score = metrics.accuracy_score(y_test, y_pred)\n",
    "score"
   ]
  },
  {
   "cell_type": "code",
   "execution_count": 54,
   "metadata": {},
   "outputs": [],
   "source": [
    "from sklearn.metrics import mean_squared_error\n",
    "\n",
    "from math import sqrt"
   ]
  },
  {
   "cell_type": "code",
   "execution_count": 55,
   "metadata": {},
   "outputs": [
    {
     "data": {
      "text/plain": [
       "0.04293406750580425"
      ]
     },
     "execution_count": 55,
     "metadata": {},
     "output_type": "execute_result"
    }
   ],
   "source": [
    "score_RMSE = sqrt(metrics.mean_squared_error(y_test, y_pred))\n",
    "score_RMSE"
   ]
  },
  {
   "cell_type": "code",
   "execution_count": 56,
   "metadata": {},
   "outputs": [
    {
     "name": "stdout",
     "output_type": "stream",
     "text": [
      "Missclassification rate:0.0018433341525929568\n"
     ]
    }
   ],
   "source": [
    "non_common_DT = results[0][1]+results[1][0]\n",
    "overall_DT = y_test.shape[0]\n",
    "\n",
    "print('Missclassification rate:'+str(non_common_DT/overall_DT))"
   ]
  },
  {
   "cell_type": "markdown",
   "metadata": {},
   "source": [
    "## IMPLEMENTING RANDOM FOREST\n"
   ]
  },
  {
   "cell_type": "code",
   "execution_count": 57,
   "metadata": {},
   "outputs": [],
   "source": [
    "from sklearn.ensemble import RandomForestClassifier"
   ]
  },
  {
   "cell_type": "code",
   "execution_count": 58,
   "metadata": {},
   "outputs": [
    {
     "data": {
      "text/plain": [
       "RandomForestClassifier(bootstrap=True, ccp_alpha=0.0, class_weight=None,\n",
       "                       criterion='gini', max_depth=None, max_features='auto',\n",
       "                       max_leaf_nodes=None, max_samples=None,\n",
       "                       min_impurity_decrease=0.0, min_impurity_split=None,\n",
       "                       min_samples_leaf=1, min_samples_split=2,\n",
       "                       min_weight_fraction_leaf=0.0, n_estimators=150,\n",
       "                       n_jobs=None, oob_score=False, random_state=None,\n",
       "                       verbose=0, warm_start=False)"
      ]
     },
     "execution_count": 58,
     "metadata": {},
     "output_type": "execute_result"
    }
   ],
   "source": [
    "Random_Class=RandomForestClassifier(n_estimators=150)\n",
    "Random_Class.fit(X_train_res,y_train_res.values.ravel())"
   ]
  },
  {
   "cell_type": "code",
   "execution_count": 59,
   "metadata": {},
   "outputs": [],
   "source": [
    "y_pred_Random = Random_Class.predict(X_test)"
   ]
  },
  {
   "cell_type": "code",
   "execution_count": 60,
   "metadata": {},
   "outputs": [
    {
     "name": "stdout",
     "output_type": "stream",
     "text": [
      "[[56858     4]\n",
      " [   22    78]]\n"
     ]
    }
   ],
   "source": [
    "results_Random = confusion_matrix(y_test,y_pred_Random)\n",
    "print(results_Random)"
   ]
  },
  {
   "cell_type": "code",
   "execution_count": 61,
   "metadata": {},
   "outputs": [
    {
     "data": {
      "text/plain": [
       "0.9995435553526912"
      ]
     },
     "execution_count": 61,
     "metadata": {},
     "output_type": "execute_result"
    }
   ],
   "source": [
    "score_Random = metrics.accuracy_score(y_test, y_pred_Random)\n",
    "score_Random"
   ]
  },
  {
   "cell_type": "code",
   "execution_count": 62,
   "metadata": {},
   "outputs": [
    {
     "data": {
      "text/plain": [
       "0.021364565226297774"
      ]
     },
     "execution_count": 62,
     "metadata": {},
     "output_type": "execute_result"
    }
   ],
   "source": [
    "score_Random_RMSE = sqrt(metrics.mean_squared_error(y_test, y_pred_Random))\n",
    "score_Random_RMSE"
   ]
  },
  {
   "cell_type": "code",
   "execution_count": 63,
   "metadata": {},
   "outputs": [
    {
     "name": "stdout",
     "output_type": "stream",
     "text": [
      "Missclassification rate:0.00045644464730873214\n"
     ]
    }
   ],
   "source": [
    "non_common_Random = results_Random[0][1]+results_Random[1][0]\n",
    "overall_Random = y_test.shape[0]\n",
    "\n",
    "print('Missclassification rate:'+str(non_common_Random/overall_Random))"
   ]
  },
  {
   "cell_type": "markdown",
   "metadata": {},
   "source": [
    "# hence we can clearly see the decrease in Missclassification rate with the implementation of a more significant regression . "
   ]
  },
  {
   "cell_type": "code",
   "execution_count": null,
   "metadata": {},
   "outputs": [],
   "source": []
  },
  {
   "cell_type": "code",
   "execution_count": null,
   "metadata": {},
   "outputs": [],
   "source": []
  }
 ],
 "metadata": {
  "kernelspec": {
   "display_name": "Python 3",
   "language": "python",
   "name": "python3"
  },
  "language_info": {
   "codemirror_mode": {
    "name": "ipython",
    "version": 3
   },
   "file_extension": ".py",
   "mimetype": "text/x-python",
   "name": "python",
   "nbconvert_exporter": "python",
   "pygments_lexer": "ipython3",
   "version": "3.7.4"
  }
 },
 "nbformat": 4,
 "nbformat_minor": 4
}
